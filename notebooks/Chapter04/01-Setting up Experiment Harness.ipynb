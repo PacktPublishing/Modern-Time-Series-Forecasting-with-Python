{
 "cells": [
  {
   "cell_type": "code",
   "execution_count": 1,
   "id": "b25018c9-2624-434c-aa23-04be1d73e729",
   "metadata": {},
   "outputs": [
    {
     "name": "stdout",
     "output_type": "stream",
     "text": [
      "C:\\Users\\ManuJoseph\\OneDrive - Thoucentric\\Work\\Projects\\Playground\\AdvancedTimeSeriesForecastingBook\\Github\\Modern-Time-Series-Forecasting-with-Python-\n"
     ]
    }
   ],
   "source": [
    "%cd ../.."
   ]
  },
  {
   "cell_type": "code",
   "execution_count": 10,
   "id": "4f023467-970a-461e-a60f-7a66fce6a497",
   "metadata": {},
   "outputs": [],
   "source": [
    "import numpy as np\n",
    "import os\n",
    "import pandas as pd\n",
    "from pathlib import Path\n",
    "from tqdm.autonotebook import tqdm\n",
    "import statsmodels.api as sm\n",
    "import warnings\n",
    "import random\n",
    "from IPython.display import display, HTML\n",
    "np.random.seed(42)\n",
    "random.seed(42)\n",
    "tqdm.pandas()"
   ]
  },
  {
   "cell_type": "markdown",
   "id": "163b0173-695f-47f0-b58f-6a1ed4ce19a0",
   "metadata": {
    "tags": []
   },
   "source": [
    "# Reading and Selecting Households"
   ]
  },
  {
   "cell_type": "code",
   "execution_count": 4,
   "id": "c22e03d7-590e-44ab-8b85-f94ac89a72c4",
   "metadata": {},
   "outputs": [],
   "source": [
    "try:\n",
    "    lclid_acorn_map = pd.read_pickle(\"data/london_smart_meters/preprocessed/london_smart_meters_lclid_acorn_map.pkl\")\n",
    "except FileNotFoundError:\n",
    "    display(HTML(\"\"\"\n",
    "    <div class=\"alert alert-block alert-warning\">\n",
    "    <b>Warning!</b> File not found. Please make sure you have run 02 - Preprocessing London Smart Meter Dataset.ipynb in Chapter02\n",
    "    </div>\n",
    "    \"\"\"))"
   ]
  },
  {
   "cell_type": "code",
   "execution_count": 11,
   "id": "db9a2dbf-239e-4e50-bd38-2a85f7cd1d14",
   "metadata": {},
   "outputs": [],
   "source": [
    "affluent_households = lclid_acorn_map.loc[lclid_acorn_map.Acorn_grouped==\"Affluent\", [\"LCLid\",'file']]\n",
    "adversity_households = lclid_acorn_map.loc[lclid_acorn_map.Acorn_grouped==\"Adversity\", [\"LCLid\",'file']]\n",
    "comfortable_households = lclid_acorn_map.loc[lclid_acorn_map.Acorn_grouped==\"Comfortable\", [\"LCLid\",'file']]"
   ]
  },
  {
   "cell_type": "markdown",
   "id": "53a3e1c4-e28c-4b20-aee6-befda1885e16",
   "metadata": {},
   "source": [
    "\n",
    "Let's take a subset of the data because if we take everything, it will hit your RAM. Depending on how much RAM you have, we can choose larger data. But to maintain the variety in the dataset, we will do stratified sampling based on Acorn classifications.\n",
    "\n",
    "* <= 50 households for 4GB RAM\n",
    "* 50 - 100 households for 8GB RAM\n",
    "* 100-150 households for 16GB RAM\n",
    "* 250 households for 32GB RAM\n",
    "\n",
    "Let's sample 150 households now, but feel free to reduce of increase as per your hardware constraints\n",
    "\n",
    "150 households means 50 each from the three Acorn Groups - Affluent, Comfortable, Adversity (we are ignoring the households with unknown ACORN groups)"
   ]
  },
  {
   "cell_type": "code",
   "execution_count": 41,
   "id": "1e94d4dc-2bf5-4a5c-8ded-75807329a926",
   "metadata": {},
   "outputs": [],
   "source": [
    "selected_households = pd.concat(\n",
    "    [\n",
    "        affluent_households.sample(50, random_state=76),\n",
    "        comfortable_households.sample(50, random_state=76),\n",
    "        adversity_households.sample(50, random_state=76),\n",
    "    ]\n",
    ")\n",
    "selected_households['block']=selected_households.file.str.split(\"_\", expand=True).iloc[:,1].astype(int)"
   ]
  },
  {
   "cell_type": "code",
   "execution_count": 56,
   "id": "82b7d299-60e5-4b1e-b990-6c84d4bba1aa",
   "metadata": {},
   "outputs": [],
   "source": [
    "# extracting the paths to the different blocks and extracting the starting and ending blocks\n",
    "path_blocks = [\n",
    "    (p, *list(map(int, p.name.split(\"_\")[5].split(\".\")[0].split(\"-\"))))\n",
    "    for p in Path(\"data/london_smart_meters/preprocessed\").glob(\n",
    "        \"london_smart_meters_merged_block*\"\n",
    "    )\n",
    "]"
   ]
  },
  {
   "cell_type": "code",
   "execution_count": 73,
   "id": "699296cb-b980-448d-8694-5a2a88365549",
   "metadata": {},
   "outputs": [
    {
     "data": {
      "application/vnd.jupyter.widget-view+json": {
       "model_id": "8f1a4c0e0c274edfb9b263c1050666dd",
       "version_major": 2,
       "version_minor": 0
      },
      "text/plain": [
       "  0%|          | 0/14 [00:00<?, ?it/s]"
      ]
     },
     "metadata": {},
     "output_type": "display_data"
    }
   ],
   "source": [
    "household_df_l = []\n",
    "for path, start_b, end_b in tqdm(path_blocks):\n",
    "    block_df = pd.read_parquet(path)\n",
    "    selected_households['block'].between\n",
    "    mask = selected_households['block'].between(start_b, end_b)\n",
    "    lclids = selected_households.loc[mask, \"LCLid\"]\n",
    "    household_df_l.append(block_df.loc[block_df.LCLid.isin(lclids)])"
   ]
  },
  {
   "cell_type": "code",
   "execution_count": 76,
   "id": "1624321f-2b04-4a2d-9c3d-c0cc4f463768",
   "metadata": {},
   "outputs": [
    {
     "data": {
      "text/html": [
       "<div>\n",
       "<style scoped>\n",
       "    .dataframe tbody tr th:only-of-type {\n",
       "        vertical-align: middle;\n",
       "    }\n",
       "\n",
       "    .dataframe tbody tr th {\n",
       "        vertical-align: top;\n",
       "    }\n",
       "\n",
       "    .dataframe thead th {\n",
       "        text-align: right;\n",
       "    }\n",
       "</style>\n",
       "<table border=\"1\" class=\"dataframe\">\n",
       "  <thead>\n",
       "    <tr style=\"text-align: right;\">\n",
       "      <th></th>\n",
       "      <th>LCLid</th>\n",
       "      <th>start_timestamp</th>\n",
       "      <th>frequency</th>\n",
       "      <th>energy_consumption</th>\n",
       "      <th>series_length</th>\n",
       "      <th>stdorToU</th>\n",
       "      <th>Acorn</th>\n",
       "      <th>Acorn_grouped</th>\n",
       "      <th>file</th>\n",
       "      <th>holidays</th>\n",
       "      <th>...</th>\n",
       "      <th>windBearing</th>\n",
       "      <th>temperature</th>\n",
       "      <th>dewPoint</th>\n",
       "      <th>pressure</th>\n",
       "      <th>apparentTemperature</th>\n",
       "      <th>windSpeed</th>\n",
       "      <th>precipType</th>\n",
       "      <th>icon</th>\n",
       "      <th>humidity</th>\n",
       "      <th>summary</th>\n",
       "    </tr>\n",
       "  </thead>\n",
       "  <tbody>\n",
       "    <tr>\n",
       "      <th>57</th>\n",
       "      <td>MAC000768</td>\n",
       "      <td>2012-04-21</td>\n",
       "      <td>30min</td>\n",
       "      <td>[0.8440000000000001, 0.265, 0.262, 0.233999999...</td>\n",
       "      <td>32544</td>\n",
       "      <td>Std</td>\n",
       "      <td>ACORN-A</td>\n",
       "      <td>Affluent</td>\n",
       "      <td>block_1</td>\n",
       "      <td>[NO_HOLIDAY, NO_HOLIDAY, NO_HOLIDAY, NO_HOLIDA...</td>\n",
       "      <td>...</td>\n",
       "      <td>[251, 251, 251, 251, 246, 246, 242, 242, 244, ...</td>\n",
       "      <td>[6.42, 6.42, 6.2, 6.2, 5.68, 5.68, 5.16, 5.16,...</td>\n",
       "      <td>[3.54, 3.54, 3.61, 3.61, 3.52, 3.52, 3.11, 3.1...</td>\n",
       "      <td>[994.96, 994.96, 994.98, 994.98, 994.82, 994.8...</td>\n",
       "      <td>[3.79, 3.79, 3.67, 3.67, 3.15, 3.15, 2.61, 2.6...</td>\n",
       "      <td>[3.64, 3.64, 3.42, 3.42, 3.25, 3.25, 3.13, 3.1...</td>\n",
       "      <td>[rain, rain, rain, rain, rain, rain, rain, rai...</td>\n",
       "      <td>[partly-cloudy-night, partly-cloudy-night, par...</td>\n",
       "      <td>[0.82, 0.82, 0.83, 0.83, 0.86, 0.86, 0.87, 0.8...</td>\n",
       "      <td>[Partly Cloudy, Partly Cloudy, Partly Cloudy, ...</td>\n",
       "    </tr>\n",
       "    <tr>\n",
       "      <th>63</th>\n",
       "      <td>MAC000948</td>\n",
       "      <td>2012-05-02</td>\n",
       "      <td>30min</td>\n",
       "      <td>[0.008, 0.009, 0.008, 0.008, 0.008, 0.009, 0.0...</td>\n",
       "      <td>32016</td>\n",
       "      <td>Std</td>\n",
       "      <td>ACORN-A</td>\n",
       "      <td>Affluent</td>\n",
       "      <td>block_1</td>\n",
       "      <td>[NO_HOLIDAY, NO_HOLIDAY, NO_HOLIDAY, NO_HOLIDA...</td>\n",
       "      <td>...</td>\n",
       "      <td>[351, 351, 0, 0, 0, 0, 351, 351, 348, 348, 3, ...</td>\n",
       "      <td>[11.81, 11.81, 11.12, 11.12, 11.2, 11.2, 11.18...</td>\n",
       "      <td>[10.47, 10.47, 10.15, 10.15, 9.89, 9.89, 9.29,...</td>\n",
       "      <td>[1021.42, 1021.42, 1021.44, 1021.44, 1021.33, ...</td>\n",
       "      <td>[11.81, 11.81, 11.12, 11.12, 11.2, 11.2, 11.18...</td>\n",
       "      <td>[2.53, 2.53, 2.41, 2.41, 2.06, 2.06, 2.98, 2.9...</td>\n",
       "      <td>[rain, rain, rain, rain, rain, rain, rain, rai...</td>\n",
       "      <td>[partly-cloudy-night, partly-cloudy-night, par...</td>\n",
       "      <td>[0.91, 0.91, 0.94, 0.94, 0.92, 0.92, 0.88, 0.8...</td>\n",
       "      <td>[Mostly Cloudy, Mostly Cloudy, Mostly Cloudy, ...</td>\n",
       "    </tr>\n",
       "    <tr>\n",
       "      <th>2827</th>\n",
       "      <td>MAC003299</td>\n",
       "      <td>2012-09-25</td>\n",
       "      <td>30min</td>\n",
       "      <td>[0.254, 0.201, 0.183, 0.2189999999999999, 0.18...</td>\n",
       "      <td>25008</td>\n",
       "      <td>Std</td>\n",
       "      <td>ACORN-C</td>\n",
       "      <td>Affluent</td>\n",
       "      <td>block_5</td>\n",
       "      <td>[NO_HOLIDAY, NO_HOLIDAY, NO_HOLIDAY, NO_HOLIDA...</td>\n",
       "      <td>...</td>\n",
       "      <td>[220, 220, 218, 218, 215, 215, 211, 211, 207, ...</td>\n",
       "      <td>[10.93, 10.93, 10.81, 10.81, 10.27, 10.27, 10....</td>\n",
       "      <td>[7.76, 7.76, 8.07, 8.07, 8.04, 8.04, 7.62, 7.6...</td>\n",
       "      <td>[989.26, 989.26, 989.27, 989.27, 989.0, 989.0,...</td>\n",
       "      <td>[10.93, 10.93, 10.81, 10.81, 10.27, 10.27, 10....</td>\n",
       "      <td>[4.9, 4.9, 4.98, 4.98, 4.45, 4.45, 4.51, 4.51,...</td>\n",
       "      <td>[rain, rain, rain, rain, rain, rain, rain, rai...</td>\n",
       "      <td>[clear-night, clear-night, clear-night, clear-...</td>\n",
       "      <td>[0.81, 0.81, 0.83, 0.83, 0.86, 0.86, 0.84, 0.8...</td>\n",
       "      <td>[Clear, Clear, Clear, Clear, Clear, Clear, Cle...</td>\n",
       "    </tr>\n",
       "    <tr>\n",
       "      <th>3389</th>\n",
       "      <td>MAC003157</td>\n",
       "      <td>2012-07-15</td>\n",
       "      <td>30min</td>\n",
       "      <td>[0.181, 0.126, 0.13, 0.134, 0.18, 0.179, 0.118...</td>\n",
       "      <td>28464</td>\n",
       "      <td>ToU</td>\n",
       "      <td>ACORN-C</td>\n",
       "      <td>Affluent</td>\n",
       "      <td>block_6</td>\n",
       "      <td>[NO_HOLIDAY, NO_HOLIDAY, NO_HOLIDAY, NO_HOLIDA...</td>\n",
       "      <td>...</td>\n",
       "      <td>[250, 250, 259, 259, 267, 267, 284, 284, 286, ...</td>\n",
       "      <td>[12.72, 12.72, 12.72, 12.72, 12.98, 12.98, 12....</td>\n",
       "      <td>[12.01, 12.01, 12.0, 12.0, 12.32, 12.32, 11.83...</td>\n",
       "      <td>[1011.2, 1011.2, 1011.17, 1011.17, 1011.23, 10...</td>\n",
       "      <td>[12.72, 12.72, 12.72, 12.72, 12.98, 12.98, 12....</td>\n",
       "      <td>[1.73, 1.73, 2.15, 2.15, 2.31, 2.31, 2.28, 2.2...</td>\n",
       "      <td>[rain, rain, rain, rain, rain, rain, rain, rai...</td>\n",
       "      <td>[clear-night, clear-night, partly-cloudy-night...</td>\n",
       "      <td>[0.95, 0.95, 0.95, 0.95, 0.96, 0.96, 0.95, 0.9...</td>\n",
       "      <td>[Clear, Clear, Partly Cloudy, Partly Cloudy, P...</td>\n",
       "    </tr>\n",
       "    <tr>\n",
       "      <th>3916</th>\n",
       "      <td>MAC000193</td>\n",
       "      <td>2012-01-01</td>\n",
       "      <td>30min</td>\n",
       "      <td>[0.368, 0.386, 0.17, 0.021, 0.038, 0.038, 0.02...</td>\n",
       "      <td>37872</td>\n",
       "      <td>ToU</td>\n",
       "      <td>ACORN-D</td>\n",
       "      <td>Affluent</td>\n",
       "      <td>block_7</td>\n",
       "      <td>[NO_HOLIDAY, NO_HOLIDAY, NO_HOLIDAY, NO_HOLIDA...</td>\n",
       "      <td>...</td>\n",
       "      <td>[229, 229, 238, 238, 229, 229, 231, 231, 227, ...</td>\n",
       "      <td>[12.12, 12.12, 12.59, 12.59, 12.45, 12.45, 12....</td>\n",
       "      <td>[10.97, 10.97, 11.02, 11.02, 11.04, 11.04, 10....</td>\n",
       "      <td>[1008.1, 1008.1, 1007.88, 1007.88, 1007.95, 10...</td>\n",
       "      <td>[12.12, 12.12, 12.59, 12.59, 12.45, 12.45, 12....</td>\n",
       "      <td>[5.9, 5.9, 6.06, 6.06, 5.31, 5.31, 4.68, 4.68,...</td>\n",
       "      <td>[rain, rain, rain, rain, rain, rain, rain, rai...</td>\n",
       "      <td>[partly-cloudy-night, partly-cloudy-night, clo...</td>\n",
       "      <td>[0.93, 0.93, 0.9, 0.9, 0.91, 0.91, 0.93, 0.93,...</td>\n",
       "      <td>[Mostly Cloudy, Mostly Cloudy, Overcast, Overc...</td>\n",
       "    </tr>\n",
       "  </tbody>\n",
       "</table>\n",
       "<p>5 rows × 21 columns</p>\n",
       "</div>"
      ],
      "text/plain": [
       "          LCLid start_timestamp frequency  \\\n",
       "57    MAC000768      2012-04-21     30min   \n",
       "63    MAC000948      2012-05-02     30min   \n",
       "2827  MAC003299      2012-09-25     30min   \n",
       "3389  MAC003157      2012-07-15     30min   \n",
       "3916  MAC000193      2012-01-01     30min   \n",
       "\n",
       "                                     energy_consumption  series_length  \\\n",
       "57    [0.8440000000000001, 0.265, 0.262, 0.233999999...          32544   \n",
       "63    [0.008, 0.009, 0.008, 0.008, 0.008, 0.009, 0.0...          32016   \n",
       "2827  [0.254, 0.201, 0.183, 0.2189999999999999, 0.18...          25008   \n",
       "3389  [0.181, 0.126, 0.13, 0.134, 0.18, 0.179, 0.118...          28464   \n",
       "3916  [0.368, 0.386, 0.17, 0.021, 0.038, 0.038, 0.02...          37872   \n",
       "\n",
       "     stdorToU    Acorn Acorn_grouped     file  \\\n",
       "57        Std  ACORN-A      Affluent  block_1   \n",
       "63        Std  ACORN-A      Affluent  block_1   \n",
       "2827      Std  ACORN-C      Affluent  block_5   \n",
       "3389      ToU  ACORN-C      Affluent  block_6   \n",
       "3916      ToU  ACORN-D      Affluent  block_7   \n",
       "\n",
       "                                               holidays  ...  \\\n",
       "57    [NO_HOLIDAY, NO_HOLIDAY, NO_HOLIDAY, NO_HOLIDA...  ...   \n",
       "63    [NO_HOLIDAY, NO_HOLIDAY, NO_HOLIDAY, NO_HOLIDA...  ...   \n",
       "2827  [NO_HOLIDAY, NO_HOLIDAY, NO_HOLIDAY, NO_HOLIDA...  ...   \n",
       "3389  [NO_HOLIDAY, NO_HOLIDAY, NO_HOLIDAY, NO_HOLIDA...  ...   \n",
       "3916  [NO_HOLIDAY, NO_HOLIDAY, NO_HOLIDAY, NO_HOLIDA...  ...   \n",
       "\n",
       "                                            windBearing  \\\n",
       "57    [251, 251, 251, 251, 246, 246, 242, 242, 244, ...   \n",
       "63    [351, 351, 0, 0, 0, 0, 351, 351, 348, 348, 3, ...   \n",
       "2827  [220, 220, 218, 218, 215, 215, 211, 211, 207, ...   \n",
       "3389  [250, 250, 259, 259, 267, 267, 284, 284, 286, ...   \n",
       "3916  [229, 229, 238, 238, 229, 229, 231, 231, 227, ...   \n",
       "\n",
       "                                            temperature  \\\n",
       "57    [6.42, 6.42, 6.2, 6.2, 5.68, 5.68, 5.16, 5.16,...   \n",
       "63    [11.81, 11.81, 11.12, 11.12, 11.2, 11.2, 11.18...   \n",
       "2827  [10.93, 10.93, 10.81, 10.81, 10.27, 10.27, 10....   \n",
       "3389  [12.72, 12.72, 12.72, 12.72, 12.98, 12.98, 12....   \n",
       "3916  [12.12, 12.12, 12.59, 12.59, 12.45, 12.45, 12....   \n",
       "\n",
       "                                               dewPoint  \\\n",
       "57    [3.54, 3.54, 3.61, 3.61, 3.52, 3.52, 3.11, 3.1...   \n",
       "63    [10.47, 10.47, 10.15, 10.15, 9.89, 9.89, 9.29,...   \n",
       "2827  [7.76, 7.76, 8.07, 8.07, 8.04, 8.04, 7.62, 7.6...   \n",
       "3389  [12.01, 12.01, 12.0, 12.0, 12.32, 12.32, 11.83...   \n",
       "3916  [10.97, 10.97, 11.02, 11.02, 11.04, 11.04, 10....   \n",
       "\n",
       "                                               pressure  \\\n",
       "57    [994.96, 994.96, 994.98, 994.98, 994.82, 994.8...   \n",
       "63    [1021.42, 1021.42, 1021.44, 1021.44, 1021.33, ...   \n",
       "2827  [989.26, 989.26, 989.27, 989.27, 989.0, 989.0,...   \n",
       "3389  [1011.2, 1011.2, 1011.17, 1011.17, 1011.23, 10...   \n",
       "3916  [1008.1, 1008.1, 1007.88, 1007.88, 1007.95, 10...   \n",
       "\n",
       "                                    apparentTemperature  \\\n",
       "57    [3.79, 3.79, 3.67, 3.67, 3.15, 3.15, 2.61, 2.6...   \n",
       "63    [11.81, 11.81, 11.12, 11.12, 11.2, 11.2, 11.18...   \n",
       "2827  [10.93, 10.93, 10.81, 10.81, 10.27, 10.27, 10....   \n",
       "3389  [12.72, 12.72, 12.72, 12.72, 12.98, 12.98, 12....   \n",
       "3916  [12.12, 12.12, 12.59, 12.59, 12.45, 12.45, 12....   \n",
       "\n",
       "                                              windSpeed  \\\n",
       "57    [3.64, 3.64, 3.42, 3.42, 3.25, 3.25, 3.13, 3.1...   \n",
       "63    [2.53, 2.53, 2.41, 2.41, 2.06, 2.06, 2.98, 2.9...   \n",
       "2827  [4.9, 4.9, 4.98, 4.98, 4.45, 4.45, 4.51, 4.51,...   \n",
       "3389  [1.73, 1.73, 2.15, 2.15, 2.31, 2.31, 2.28, 2.2...   \n",
       "3916  [5.9, 5.9, 6.06, 6.06, 5.31, 5.31, 4.68, 4.68,...   \n",
       "\n",
       "                                             precipType  \\\n",
       "57    [rain, rain, rain, rain, rain, rain, rain, rai...   \n",
       "63    [rain, rain, rain, rain, rain, rain, rain, rai...   \n",
       "2827  [rain, rain, rain, rain, rain, rain, rain, rai...   \n",
       "3389  [rain, rain, rain, rain, rain, rain, rain, rai...   \n",
       "3916  [rain, rain, rain, rain, rain, rain, rain, rai...   \n",
       "\n",
       "                                                   icon  \\\n",
       "57    [partly-cloudy-night, partly-cloudy-night, par...   \n",
       "63    [partly-cloudy-night, partly-cloudy-night, par...   \n",
       "2827  [clear-night, clear-night, clear-night, clear-...   \n",
       "3389  [clear-night, clear-night, partly-cloudy-night...   \n",
       "3916  [partly-cloudy-night, partly-cloudy-night, clo...   \n",
       "\n",
       "                                               humidity  \\\n",
       "57    [0.82, 0.82, 0.83, 0.83, 0.86, 0.86, 0.87, 0.8...   \n",
       "63    [0.91, 0.91, 0.94, 0.94, 0.92, 0.92, 0.88, 0.8...   \n",
       "2827  [0.81, 0.81, 0.83, 0.83, 0.86, 0.86, 0.84, 0.8...   \n",
       "3389  [0.95, 0.95, 0.95, 0.95, 0.96, 0.96, 0.95, 0.9...   \n",
       "3916  [0.93, 0.93, 0.9, 0.9, 0.91, 0.91, 0.93, 0.93,...   \n",
       "\n",
       "                                                summary  \n",
       "57    [Partly Cloudy, Partly Cloudy, Partly Cloudy, ...  \n",
       "63    [Mostly Cloudy, Mostly Cloudy, Mostly Cloudy, ...  \n",
       "2827  [Clear, Clear, Clear, Clear, Clear, Clear, Cle...  \n",
       "3389  [Clear, Clear, Partly Cloudy, Partly Cloudy, P...  \n",
       "3916  [Mostly Cloudy, Mostly Cloudy, Overcast, Overc...  \n",
       "\n",
       "[5 rows x 21 columns]"
      ]
     },
     "execution_count": 76,
     "metadata": {},
     "output_type": "execute_result"
    }
   ],
   "source": [
    "block_df = pd.concat(household_df_l)\n",
    "del household_df_l\n",
    "block_df.head()"
   ]
  },
  {
   "cell_type": "code",
   "execution_count": 77,
   "id": "2d1ba165-4bbd-4d70-a258-6f5c1d614649",
   "metadata": {},
   "outputs": [],
   "source": [
    "from src.utils.data_utils import compact_to_expanded"
   ]
  },
  {
   "cell_type": "code",
   "execution_count": 78,
   "id": "8a6ee29c-6c81-4ab4-9617-c488bbe26b3f",
   "metadata": {},
   "outputs": [
    {
     "data": {
      "application/vnd.jupyter.widget-view+json": {
       "model_id": "3371af7d8bf346719dd2d6b0c8b1a97e",
       "version_major": 2,
       "version_minor": 0
      },
      "text/plain": [
       "  0%|          | 0/150 [00:00<?, ?it/s]"
      ]
     },
     "metadata": {},
     "output_type": "display_data"
    },
    {
     "data": {
      "text/html": [
       "<div>\n",
       "<style scoped>\n",
       "    .dataframe tbody tr th:only-of-type {\n",
       "        vertical-align: middle;\n",
       "    }\n",
       "\n",
       "    .dataframe tbody tr th {\n",
       "        vertical-align: top;\n",
       "    }\n",
       "\n",
       "    .dataframe thead th {\n",
       "        text-align: right;\n",
       "    }\n",
       "</style>\n",
       "<table border=\"1\" class=\"dataframe\">\n",
       "  <thead>\n",
       "    <tr style=\"text-align: right;\">\n",
       "      <th></th>\n",
       "      <th>timestamp</th>\n",
       "      <th>LCLid</th>\n",
       "      <th>energy_consumption</th>\n",
       "      <th>frequency</th>\n",
       "      <th>series_length</th>\n",
       "      <th>stdorToU</th>\n",
       "      <th>Acorn</th>\n",
       "      <th>Acorn_grouped</th>\n",
       "      <th>file</th>\n",
       "      <th>holidays</th>\n",
       "      <th>...</th>\n",
       "      <th>windBearing</th>\n",
       "      <th>temperature</th>\n",
       "      <th>dewPoint</th>\n",
       "      <th>pressure</th>\n",
       "      <th>apparentTemperature</th>\n",
       "      <th>windSpeed</th>\n",
       "      <th>precipType</th>\n",
       "      <th>icon</th>\n",
       "      <th>humidity</th>\n",
       "      <th>summary</th>\n",
       "    </tr>\n",
       "  </thead>\n",
       "  <tbody>\n",
       "    <tr>\n",
       "      <th>0</th>\n",
       "      <td>2012-04-21 00:00:00</td>\n",
       "      <td>MAC000768</td>\n",
       "      <td>0.844</td>\n",
       "      <td>30min</td>\n",
       "      <td>32544</td>\n",
       "      <td>Std</td>\n",
       "      <td>ACORN-A</td>\n",
       "      <td>Affluent</td>\n",
       "      <td>block_1</td>\n",
       "      <td>NO_HOLIDAY</td>\n",
       "      <td>...</td>\n",
       "      <td>251</td>\n",
       "      <td>6.42</td>\n",
       "      <td>3.54</td>\n",
       "      <td>994.96</td>\n",
       "      <td>3.79</td>\n",
       "      <td>3.64</td>\n",
       "      <td>rain</td>\n",
       "      <td>partly-cloudy-night</td>\n",
       "      <td>0.82</td>\n",
       "      <td>Partly Cloudy</td>\n",
       "    </tr>\n",
       "    <tr>\n",
       "      <th>1</th>\n",
       "      <td>2012-04-21 00:30:00</td>\n",
       "      <td>MAC000768</td>\n",
       "      <td>0.265</td>\n",
       "      <td>30min</td>\n",
       "      <td>32544</td>\n",
       "      <td>Std</td>\n",
       "      <td>ACORN-A</td>\n",
       "      <td>Affluent</td>\n",
       "      <td>block_1</td>\n",
       "      <td>NO_HOLIDAY</td>\n",
       "      <td>...</td>\n",
       "      <td>251</td>\n",
       "      <td>6.42</td>\n",
       "      <td>3.54</td>\n",
       "      <td>994.96</td>\n",
       "      <td>3.79</td>\n",
       "      <td>3.64</td>\n",
       "      <td>rain</td>\n",
       "      <td>partly-cloudy-night</td>\n",
       "      <td>0.82</td>\n",
       "      <td>Partly Cloudy</td>\n",
       "    </tr>\n",
       "    <tr>\n",
       "      <th>2</th>\n",
       "      <td>2012-04-21 01:00:00</td>\n",
       "      <td>MAC000768</td>\n",
       "      <td>0.262</td>\n",
       "      <td>30min</td>\n",
       "      <td>32544</td>\n",
       "      <td>Std</td>\n",
       "      <td>ACORN-A</td>\n",
       "      <td>Affluent</td>\n",
       "      <td>block_1</td>\n",
       "      <td>NO_HOLIDAY</td>\n",
       "      <td>...</td>\n",
       "      <td>251</td>\n",
       "      <td>6.20</td>\n",
       "      <td>3.61</td>\n",
       "      <td>994.98</td>\n",
       "      <td>3.67</td>\n",
       "      <td>3.42</td>\n",
       "      <td>rain</td>\n",
       "      <td>partly-cloudy-night</td>\n",
       "      <td>0.83</td>\n",
       "      <td>Partly Cloudy</td>\n",
       "    </tr>\n",
       "    <tr>\n",
       "      <th>3</th>\n",
       "      <td>2012-04-21 01:30:00</td>\n",
       "      <td>MAC000768</td>\n",
       "      <td>0.234</td>\n",
       "      <td>30min</td>\n",
       "      <td>32544</td>\n",
       "      <td>Std</td>\n",
       "      <td>ACORN-A</td>\n",
       "      <td>Affluent</td>\n",
       "      <td>block_1</td>\n",
       "      <td>NO_HOLIDAY</td>\n",
       "      <td>...</td>\n",
       "      <td>251</td>\n",
       "      <td>6.20</td>\n",
       "      <td>3.61</td>\n",
       "      <td>994.98</td>\n",
       "      <td>3.67</td>\n",
       "      <td>3.42</td>\n",
       "      <td>rain</td>\n",
       "      <td>partly-cloudy-night</td>\n",
       "      <td>0.83</td>\n",
       "      <td>Partly Cloudy</td>\n",
       "    </tr>\n",
       "    <tr>\n",
       "      <th>4</th>\n",
       "      <td>2012-04-21 02:00:00</td>\n",
       "      <td>MAC000768</td>\n",
       "      <td>0.046</td>\n",
       "      <td>30min</td>\n",
       "      <td>32544</td>\n",
       "      <td>Std</td>\n",
       "      <td>ACORN-A</td>\n",
       "      <td>Affluent</td>\n",
       "      <td>block_1</td>\n",
       "      <td>NO_HOLIDAY</td>\n",
       "      <td>...</td>\n",
       "      <td>246</td>\n",
       "      <td>5.68</td>\n",
       "      <td>3.52</td>\n",
       "      <td>994.82</td>\n",
       "      <td>3.15</td>\n",
       "      <td>3.25</td>\n",
       "      <td>rain</td>\n",
       "      <td>clear-night</td>\n",
       "      <td>0.86</td>\n",
       "      <td>Clear</td>\n",
       "    </tr>\n",
       "  </tbody>\n",
       "</table>\n",
       "<p>5 rows × 21 columns</p>\n",
       "</div>"
      ],
      "text/plain": [
       "            timestamp      LCLid  energy_consumption frequency  series_length  \\\n",
       "0 2012-04-21 00:00:00  MAC000768               0.844     30min          32544   \n",
       "1 2012-04-21 00:30:00  MAC000768               0.265     30min          32544   \n",
       "2 2012-04-21 01:00:00  MAC000768               0.262     30min          32544   \n",
       "3 2012-04-21 01:30:00  MAC000768               0.234     30min          32544   \n",
       "4 2012-04-21 02:00:00  MAC000768               0.046     30min          32544   \n",
       "\n",
       "  stdorToU    Acorn Acorn_grouped     file    holidays  ...  windBearing  \\\n",
       "0      Std  ACORN-A      Affluent  block_1  NO_HOLIDAY  ...          251   \n",
       "1      Std  ACORN-A      Affluent  block_1  NO_HOLIDAY  ...          251   \n",
       "2      Std  ACORN-A      Affluent  block_1  NO_HOLIDAY  ...          251   \n",
       "3      Std  ACORN-A      Affluent  block_1  NO_HOLIDAY  ...          251   \n",
       "4      Std  ACORN-A      Affluent  block_1  NO_HOLIDAY  ...          246   \n",
       "\n",
       "   temperature  dewPoint  pressure  apparentTemperature  windSpeed  \\\n",
       "0         6.42      3.54    994.96                 3.79       3.64   \n",
       "1         6.42      3.54    994.96                 3.79       3.64   \n",
       "2         6.20      3.61    994.98                 3.67       3.42   \n",
       "3         6.20      3.61    994.98                 3.67       3.42   \n",
       "4         5.68      3.52    994.82                 3.15       3.25   \n",
       "\n",
       "   precipType                 icon humidity        summary  \n",
       "0        rain  partly-cloudy-night     0.82  Partly Cloudy  \n",
       "1        rain  partly-cloudy-night     0.82  Partly Cloudy  \n",
       "2        rain  partly-cloudy-night     0.83  Partly Cloudy  \n",
       "3        rain  partly-cloudy-night     0.83  Partly Cloudy  \n",
       "4        rain          clear-night     0.86          Clear  \n",
       "\n",
       "[5 rows x 21 columns]"
      ]
     },
     "execution_count": 78,
     "metadata": {},
     "output_type": "execute_result"
    }
   ],
   "source": [
    "#Converting to expanded form\n",
    "exp_block_df = compact_to_expanded(block_df, timeseries_col = 'energy_consumption',\n",
    "static_cols = [\"frequency\", \"series_length\", \"stdorToU\", \"Acorn\", \"Acorn_grouped\", \"file\"],\n",
    "time_varying_cols = ['holidays', 'visibility', 'windBearing', 'temperature', 'dewPoint',\n",
    "       'pressure', 'apparentTemperature', 'windSpeed', 'precipType', 'icon',\n",
    "       'humidity', 'summary'],\n",
    "ts_identifier = \"LCLid\")\n",
    "\n",
    "exp_block_df.head()"
   ]
  },
  {
   "cell_type": "markdown",
   "id": "3a94732d-a46a-416d-972f-daa75fb92fb4",
   "metadata": {},
   "source": [
    "## Reduce Memory Footprint"
   ]
  },
  {
   "cell_type": "code",
   "execution_count": 79,
   "id": "ca804c7a-421c-4c76-beef-4f26ec016c9e",
   "metadata": {},
   "outputs": [],
   "source": [
    "from src.utils.data_utils import reduce_memory_footprint"
   ]
  },
  {
   "cell_type": "code",
   "execution_count": 80,
   "id": "19bff3aa-e7f1-4edf-979b-36cbc473f7b7",
   "metadata": {},
   "outputs": [
    {
     "name": "stdout",
     "output_type": "stream",
     "text": [
      "<class 'pandas.core.frame.DataFrame'>\n",
      "Int64Index: 4711440 entries, 0 to 33263\n",
      "Columns: 21 entries, timestamp to summary\n",
      "dtypes: datetime64[ns](1), float64(8), int64(2), object(10)\n",
      "memory usage: 3.3 GB\n"
     ]
    }
   ],
   "source": [
    "exp_block_df.info(memory_usage=\"deep\", verbose=False)"
   ]
  },
  {
   "cell_type": "code",
   "execution_count": 81,
   "id": "85908d31-5276-466d-ad8f-a9fdda67cee8",
   "metadata": {},
   "outputs": [],
   "source": [
    "exp_block_df = reduce_memory_footprint(exp_block_df)"
   ]
  },
  {
   "cell_type": "code",
   "execution_count": 82,
   "id": "9a3a3371-c1dd-4cce-af05-73673bb2497b",
   "metadata": {},
   "outputs": [
    {
     "name": "stdout",
     "output_type": "stream",
     "text": [
      "<class 'pandas.core.frame.DataFrame'>\n",
      "Int64Index: 4711440 entries, 0 to 33263\n",
      "Columns: 21 entries, timestamp to summary\n",
      "dtypes: category(10), datetime64[ns](1), float32(8), int32(2)\n",
      "memory usage: 301.1 MB\n"
     ]
    }
   ],
   "source": [
    "exp_block_df.info(memory_usage=\"deep\", verbose=False)"
   ]
  },
  {
   "cell_type": "markdown",
   "id": "9d4fccc6-fead-4ce4-9c58-0aa017f5dffb",
   "metadata": {},
   "source": [
    "# Train Test Valildation Split"
   ]
  },
  {
   "cell_type": "markdown",
   "id": "1e20542e-e027-43f1-8164-054ea1c07b2f",
   "metadata": {},
   "source": [
    "We are going to keep 2014 data as the validation and test period. We have 2 months(Jan and Feb) of data in 2014. Jan is Validation and Feb is Test"
   ]
  },
  {
   "cell_type": "code",
   "execution_count": 83,
   "id": "74a762af-b17d-46bf-9440-367d132caa6e",
   "metadata": {},
   "outputs": [
    {
     "name": "stdout",
     "output_type": "stream",
     "text": [
      "# of Training samples: 4293840 | # of Validation samples: 223200 | # of Test samples: 194400\n",
      "Max Date in Train: 2013-12-31 23:30:00 | Min Date in Validation: 2014-01-01 00:00:00 | Min Date in Test: 2014-02-01 00:00:00\n"
     ]
    }
   ],
   "source": [
    "# test_mask = (exp_block_df.timestamp.dt.year==2014) & (exp_block_df.timestamp.dt.month==2)\n",
    "# val_mask = (exp_block_df.timestamp.dt.year==2014) & (exp_block_df.timestamp.dt.month==1)\n",
    "\n",
    "\"\"\"To get the last year and last months values from the dataset without specifying manually.\"\"\"\n",
    "\n",
    "test_mask = (exp_block_df.timestamp.dt.year==exp_block_df.timestamp.dt.to_period('M').unique()[-1].year) & (exp_block_df.timestamp.dt.month==exp_block_df.timestamp.dt.to_period('M').unique()[-1].month)\n",
    "val_mask = (exp_block_df.timestamp.dt.year==exp_block_df.timestamp.dt.to_period('M').unique()[-1].year) & (exp_block_df.timestamp.dt.month==exp_block_df.timestamp.dt.to_period('M').unique()[-2].month)\n",
    "\n",
    "train = exp_block_df[~(val_mask|test_mask)]\n",
    "val = exp_block_df[val_mask]\n",
    "test = exp_block_df[test_mask]\n",
    "print(f\"# of Training samples: {len(train)} | # of Validation samples: {len(val)} | # of Test samples: {len(test)}\")\n",
    "print(f\"Max Date in Train: {train.timestamp.max()} | Min Date in Validation: {val.timestamp.min()} | Min Date in Test: {test.timestamp.min()}\")"
   ]
  },
  {
   "cell_type": "code",
   "execution_count": 84,
   "id": "62ec1fc8-7f08-45b9-b0c9-7a782fd62c9b",
   "metadata": {},
   "outputs": [],
   "source": [
    "train.to_parquet(\"data/london_smart_meters/preprocessed/selected_blocks_train.parquet\")\n",
    "val.to_parquet(\"data/london_smart_meters/preprocessed/selected_blocks_val.parquet\")\n",
    "test.to_parquet(\"data/london_smart_meters/preprocessed/selected_blocks_test.parquet\")"
   ]
  },
  {
   "cell_type": "markdown",
   "id": "0adfd81a-39b1-4261-a6be-24ede1313be3",
   "metadata": {},
   "source": [
    "## Train Test Split after filling in missing values"
   ]
  },
  {
   "cell_type": "code",
   "execution_count": 85,
   "id": "b7c669aa-3892-4de7-886b-4275cdf229ee",
   "metadata": {},
   "outputs": [
    {
     "data": {
      "application/vnd.jupyter.widget-view+json": {
       "model_id": "0e8d179aa85b4404be20874c13c2582f",
       "version_major": 2,
       "version_minor": 0
      },
      "text/plain": [
       "  0%|          | 0/150 [00:00<?, ?it/s]"
      ]
     },
     "metadata": {},
     "output_type": "display_data"
    }
   ],
   "source": [
    "from src.imputation.interpolation import SeasonalInterpolation\n",
    "\n",
    "block_df.energy_consumption = block_df.energy_consumption.progress_apply(lambda x: SeasonalInterpolation(seasonal_period=48*7).fit_transform(x.reshape(-1,1)).squeeze())"
   ]
  },
  {
   "cell_type": "code",
   "execution_count": 86,
   "id": "7d8a9a3b-8a02-47ee-a35f-09450de68cc7",
   "metadata": {
    "tags": []
   },
   "outputs": [
    {
     "data": {
      "application/vnd.jupyter.widget-view+json": {
       "model_id": "f47de382c31c4f94b9f3df4b0e2a2d51",
       "version_major": 2,
       "version_minor": 0
      },
      "text/plain": [
       "  0%|          | 0/150 [00:00<?, ?it/s]"
      ]
     },
     "metadata": {},
     "output_type": "display_data"
    },
    {
     "data": {
      "text/html": [
       "<div>\n",
       "<style scoped>\n",
       "    .dataframe tbody tr th:only-of-type {\n",
       "        vertical-align: middle;\n",
       "    }\n",
       "\n",
       "    .dataframe tbody tr th {\n",
       "        vertical-align: top;\n",
       "    }\n",
       "\n",
       "    .dataframe thead th {\n",
       "        text-align: right;\n",
       "    }\n",
       "</style>\n",
       "<table border=\"1\" class=\"dataframe\">\n",
       "  <thead>\n",
       "    <tr style=\"text-align: right;\">\n",
       "      <th></th>\n",
       "      <th>timestamp</th>\n",
       "      <th>LCLid</th>\n",
       "      <th>energy_consumption</th>\n",
       "      <th>frequency</th>\n",
       "      <th>series_length</th>\n",
       "      <th>stdorToU</th>\n",
       "      <th>Acorn</th>\n",
       "      <th>Acorn_grouped</th>\n",
       "      <th>file</th>\n",
       "      <th>holidays</th>\n",
       "      <th>...</th>\n",
       "      <th>windBearing</th>\n",
       "      <th>temperature</th>\n",
       "      <th>dewPoint</th>\n",
       "      <th>pressure</th>\n",
       "      <th>apparentTemperature</th>\n",
       "      <th>windSpeed</th>\n",
       "      <th>precipType</th>\n",
       "      <th>icon</th>\n",
       "      <th>humidity</th>\n",
       "      <th>summary</th>\n",
       "    </tr>\n",
       "  </thead>\n",
       "  <tbody>\n",
       "    <tr>\n",
       "      <th>0</th>\n",
       "      <td>2012-04-21 00:00:00</td>\n",
       "      <td>MAC000768</td>\n",
       "      <td>0.844</td>\n",
       "      <td>30min</td>\n",
       "      <td>32544</td>\n",
       "      <td>Std</td>\n",
       "      <td>ACORN-A</td>\n",
       "      <td>Affluent</td>\n",
       "      <td>block_1</td>\n",
       "      <td>NO_HOLIDAY</td>\n",
       "      <td>...</td>\n",
       "      <td>251</td>\n",
       "      <td>6.42</td>\n",
       "      <td>3.54</td>\n",
       "      <td>994.96</td>\n",
       "      <td>3.79</td>\n",
       "      <td>3.64</td>\n",
       "      <td>rain</td>\n",
       "      <td>partly-cloudy-night</td>\n",
       "      <td>0.82</td>\n",
       "      <td>Partly Cloudy</td>\n",
       "    </tr>\n",
       "    <tr>\n",
       "      <th>1</th>\n",
       "      <td>2012-04-21 00:30:00</td>\n",
       "      <td>MAC000768</td>\n",
       "      <td>0.265</td>\n",
       "      <td>30min</td>\n",
       "      <td>32544</td>\n",
       "      <td>Std</td>\n",
       "      <td>ACORN-A</td>\n",
       "      <td>Affluent</td>\n",
       "      <td>block_1</td>\n",
       "      <td>NO_HOLIDAY</td>\n",
       "      <td>...</td>\n",
       "      <td>251</td>\n",
       "      <td>6.42</td>\n",
       "      <td>3.54</td>\n",
       "      <td>994.96</td>\n",
       "      <td>3.79</td>\n",
       "      <td>3.64</td>\n",
       "      <td>rain</td>\n",
       "      <td>partly-cloudy-night</td>\n",
       "      <td>0.82</td>\n",
       "      <td>Partly Cloudy</td>\n",
       "    </tr>\n",
       "    <tr>\n",
       "      <th>2</th>\n",
       "      <td>2012-04-21 01:00:00</td>\n",
       "      <td>MAC000768</td>\n",
       "      <td>0.262</td>\n",
       "      <td>30min</td>\n",
       "      <td>32544</td>\n",
       "      <td>Std</td>\n",
       "      <td>ACORN-A</td>\n",
       "      <td>Affluent</td>\n",
       "      <td>block_1</td>\n",
       "      <td>NO_HOLIDAY</td>\n",
       "      <td>...</td>\n",
       "      <td>251</td>\n",
       "      <td>6.20</td>\n",
       "      <td>3.61</td>\n",
       "      <td>994.98</td>\n",
       "      <td>3.67</td>\n",
       "      <td>3.42</td>\n",
       "      <td>rain</td>\n",
       "      <td>partly-cloudy-night</td>\n",
       "      <td>0.83</td>\n",
       "      <td>Partly Cloudy</td>\n",
       "    </tr>\n",
       "    <tr>\n",
       "      <th>3</th>\n",
       "      <td>2012-04-21 01:30:00</td>\n",
       "      <td>MAC000768</td>\n",
       "      <td>0.234</td>\n",
       "      <td>30min</td>\n",
       "      <td>32544</td>\n",
       "      <td>Std</td>\n",
       "      <td>ACORN-A</td>\n",
       "      <td>Affluent</td>\n",
       "      <td>block_1</td>\n",
       "      <td>NO_HOLIDAY</td>\n",
       "      <td>...</td>\n",
       "      <td>251</td>\n",
       "      <td>6.20</td>\n",
       "      <td>3.61</td>\n",
       "      <td>994.98</td>\n",
       "      <td>3.67</td>\n",
       "      <td>3.42</td>\n",
       "      <td>rain</td>\n",
       "      <td>partly-cloudy-night</td>\n",
       "      <td>0.83</td>\n",
       "      <td>Partly Cloudy</td>\n",
       "    </tr>\n",
       "    <tr>\n",
       "      <th>4</th>\n",
       "      <td>2012-04-21 02:00:00</td>\n",
       "      <td>MAC000768</td>\n",
       "      <td>0.046</td>\n",
       "      <td>30min</td>\n",
       "      <td>32544</td>\n",
       "      <td>Std</td>\n",
       "      <td>ACORN-A</td>\n",
       "      <td>Affluent</td>\n",
       "      <td>block_1</td>\n",
       "      <td>NO_HOLIDAY</td>\n",
       "      <td>...</td>\n",
       "      <td>246</td>\n",
       "      <td>5.68</td>\n",
       "      <td>3.52</td>\n",
       "      <td>994.82</td>\n",
       "      <td>3.15</td>\n",
       "      <td>3.25</td>\n",
       "      <td>rain</td>\n",
       "      <td>clear-night</td>\n",
       "      <td>0.86</td>\n",
       "      <td>Clear</td>\n",
       "    </tr>\n",
       "  </tbody>\n",
       "</table>\n",
       "<p>5 rows × 21 columns</p>\n",
       "</div>"
      ],
      "text/plain": [
       "            timestamp      LCLid  energy_consumption frequency  series_length  \\\n",
       "0 2012-04-21 00:00:00  MAC000768               0.844     30min          32544   \n",
       "1 2012-04-21 00:30:00  MAC000768               0.265     30min          32544   \n",
       "2 2012-04-21 01:00:00  MAC000768               0.262     30min          32544   \n",
       "3 2012-04-21 01:30:00  MAC000768               0.234     30min          32544   \n",
       "4 2012-04-21 02:00:00  MAC000768               0.046     30min          32544   \n",
       "\n",
       "  stdorToU    Acorn Acorn_grouped     file    holidays  ...  windBearing  \\\n",
       "0      Std  ACORN-A      Affluent  block_1  NO_HOLIDAY  ...          251   \n",
       "1      Std  ACORN-A      Affluent  block_1  NO_HOLIDAY  ...          251   \n",
       "2      Std  ACORN-A      Affluent  block_1  NO_HOLIDAY  ...          251   \n",
       "3      Std  ACORN-A      Affluent  block_1  NO_HOLIDAY  ...          251   \n",
       "4      Std  ACORN-A      Affluent  block_1  NO_HOLIDAY  ...          246   \n",
       "\n",
       "   temperature  dewPoint  pressure  apparentTemperature  windSpeed  \\\n",
       "0         6.42      3.54    994.96                 3.79       3.64   \n",
       "1         6.42      3.54    994.96                 3.79       3.64   \n",
       "2         6.20      3.61    994.98                 3.67       3.42   \n",
       "3         6.20      3.61    994.98                 3.67       3.42   \n",
       "4         5.68      3.52    994.82                 3.15       3.25   \n",
       "\n",
       "   precipType                 icon humidity        summary  \n",
       "0        rain  partly-cloudy-night     0.82  Partly Cloudy  \n",
       "1        rain  partly-cloudy-night     0.82  Partly Cloudy  \n",
       "2        rain  partly-cloudy-night     0.83  Partly Cloudy  \n",
       "3        rain  partly-cloudy-night     0.83  Partly Cloudy  \n",
       "4        rain          clear-night     0.86          Clear  \n",
       "\n",
       "[5 rows x 21 columns]"
      ]
     },
     "execution_count": 86,
     "metadata": {},
     "output_type": "execute_result"
    }
   ],
   "source": [
    "#Converting to expanded form\n",
    "exp_block_df = compact_to_expanded(block_df, timeseries_col = 'energy_consumption',\n",
    "static_cols = [\"frequency\", \"series_length\", \"stdorToU\", \"Acorn\", \"Acorn_grouped\", \"file\"],\n",
    "time_varying_cols = ['holidays', 'visibility', 'windBearing', 'temperature', 'dewPoint',\n",
    "       'pressure', 'apparentTemperature', 'windSpeed', 'precipType', 'icon',\n",
    "       'humidity', 'summary'],\n",
    "ts_identifier = \"LCLid\")\n",
    "\n",
    "exp_block_df.head()"
   ]
  },
  {
   "cell_type": "markdown",
   "id": "38bc27a1-d06c-4513-875c-05956990cf58",
   "metadata": {},
   "source": [
    "## Reduce Memory Footprint"
   ]
  },
  {
   "cell_type": "code",
   "execution_count": 87,
   "id": "da3cde56-201f-4637-a8f7-0597841b7e18",
   "metadata": {},
   "outputs": [],
   "source": [
    "from src.utils.data_utils import reduce_memory_footprint"
   ]
  },
  {
   "cell_type": "code",
   "execution_count": 88,
   "id": "0c03bb4c-d5ee-4e5a-bf36-d1d01e1d27dd",
   "metadata": {},
   "outputs": [
    {
     "name": "stdout",
     "output_type": "stream",
     "text": [
      "<class 'pandas.core.frame.DataFrame'>\n",
      "Int64Index: 4711440 entries, 0 to 33263\n",
      "Columns: 21 entries, timestamp to summary\n",
      "dtypes: datetime64[ns](1), float64(8), int64(2), object(10)\n",
      "memory usage: 3.3 GB\n"
     ]
    }
   ],
   "source": [
    "exp_block_df.info(memory_usage=\"deep\", verbose=False)"
   ]
  },
  {
   "cell_type": "code",
   "execution_count": 89,
   "id": "001fb4df-8669-432e-85a9-a57d5a721add",
   "metadata": {},
   "outputs": [],
   "source": [
    "exp_block_df = reduce_memory_footprint(exp_block_df)"
   ]
  },
  {
   "cell_type": "code",
   "execution_count": 90,
   "id": "0d78f0e8-c9e3-4f10-97d5-b7969577b058",
   "metadata": {},
   "outputs": [
    {
     "name": "stdout",
     "output_type": "stream",
     "text": [
      "<class 'pandas.core.frame.DataFrame'>\n",
      "Int64Index: 4711440 entries, 0 to 33263\n",
      "Columns: 21 entries, timestamp to summary\n",
      "dtypes: category(10), datetime64[ns](1), float32(8), int32(2)\n",
      "memory usage: 301.1 MB\n"
     ]
    }
   ],
   "source": [
    "exp_block_df.info(memory_usage=\"deep\", verbose=False)"
   ]
  },
  {
   "cell_type": "code",
   "execution_count": 91,
   "id": "a0bbf4f4-d075-4de3-8bcc-0278b3386451",
   "metadata": {},
   "outputs": [
    {
     "name": "stdout",
     "output_type": "stream",
     "text": [
      "# of Training samples: 4293840 | # of Validation samples: 223200 | # of Test samples: 194400\n",
      "Max Date in Train: 2013-12-31 23:30:00 | Min Date in Validation: 2014-01-01 00:00:00 | Min Date in Test: 2014-02-01 00:00:00\n"
     ]
    }
   ],
   "source": [
    "# test_mask = (exp_block_df.timestamp.dt.year==2014) & (exp_block_df.timestamp.dt.month==2)\n",
    "# val_mask = (exp_block_df.timestamp.dt.year==2014) & (exp_block_df.timestamp.dt.month==1)\n",
    "\n",
    "test_mask = (exp_block_df.timestamp.dt.year==exp_block_df.timestamp.dt.to_period('M').unique()[-1].year) & (exp_block_df.timestamp.dt.month==exp_block_df.timestamp.dt.to_period('M').unique()[-1].month)\n",
    "val_mask = (exp_block_df.timestamp.dt.year==exp_block_df.timestamp.dt.to_period('M').unique()[-1].year) & (exp_block_df.timestamp.dt.month==exp_block_df.timestamp.dt.to_period('M').unique()[-2].month)\n",
    "\n",
    "train = exp_block_df[~(val_mask|test_mask)]\n",
    "val = exp_block_df[val_mask]\n",
    "test = exp_block_df[test_mask]\n",
    "print(f\"# of Training samples: {len(train)} | # of Validation samples: {len(val)} | # of Test samples: {len(test)}\")\n",
    "print(f\"Max Date in Train: {train.timestamp.max()} | Min Date in Validation: {val.timestamp.min()} | Min Date in Test: {test.timestamp.min()}\")"
   ]
  },
  {
   "cell_type": "code",
   "execution_count": 92,
   "id": "b43ed1d0-e1de-4e4c-8389-4ade3bbcd17b",
   "metadata": {},
   "outputs": [],
   "source": [
    "train.to_parquet(\"data/london_smart_meters/preprocessed/selected_blocks_train_missing_imputed.parquet\")\n",
    "val.to_parquet(\"data/london_smart_meters/preprocessed/selected_blocks_val_missing_imputed.parquet\")\n",
    "test.to_parquet(\"data/london_smart_meters/preprocessed/selected_blocks_test_missing_imputed.parquet\")"
   ]
  }
 ],
 "metadata": {
  "kernelspec": {
   "display_name": "Python 3 (ipykernel)",
   "language": "python",
   "name": "python3"
  },
  "language_info": {
   "codemirror_mode": {
    "name": "ipython",
    "version": 3
   },
   "file_extension": ".py",
   "mimetype": "text/x-python",
   "name": "python",
   "nbconvert_exporter": "python",
   "pygments_lexer": "ipython3",
   "version": "3.9.18"
  }
 },
 "nbformat": 4,
 "nbformat_minor": 5
}
